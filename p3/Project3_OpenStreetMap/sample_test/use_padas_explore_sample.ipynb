{
 "cells": [
  {
   "cell_type": "code",
   "execution_count": 6,
   "metadata": {
    "collapsed": false
   },
   "outputs": [
    {
     "name": "stdout",
     "output_type": "stream",
     "text": [
      "<class 'pandas.core.frame.DataFrame'>\n",
      "RangeIndex: 4193 entries, 0 to 4192\n",
      "Data columns (total 4 columns):\n",
      "id       4193 non-null int64\n",
      "key      4193 non-null object\n",
      "value    4193 non-null object\n",
      "type     4193 non-null object\n",
      "dtypes: int64(1), object(3)\n",
      "memory usage: 131.1+ KB\n"
     ]
    }
   ],
   "source": [
    "import pandas as pd\n",
    "import numpy as np\n",
    "import matplotlib.pyplot as plt\n",
    "pd.set_option('display.max_rows', 500)\n",
    "\n",
    "#read titanic-data.csv file, storing in pandas dataframe\n",
    "df = pd.read_csv('nodes_tags_k_20.csv', header=0)\n",
    "\n",
    "#look at how is the dataset look like\n",
    "df.info()"
   ]
  },
  {
   "cell_type": "code",
   "execution_count": 17,
   "metadata": {
    "collapsed": false,
    "scrolled": false
   },
   "outputs": [
    {
     "data": {
      "text/html": [
       "<div>\n",
       "<table border=\"1\" class=\"dataframe\">\n",
       "  <thead>\n",
       "    <tr style=\"text-align: right;\">\n",
       "      <th></th>\n",
       "      <th>id</th>\n",
       "    </tr>\n",
       "  </thead>\n",
       "  <tbody>\n",
       "    <tr>\n",
       "      <th>count</th>\n",
       "      <td>3.200000e+01</td>\n",
       "    </tr>\n",
       "    <tr>\n",
       "      <th>mean</th>\n",
       "      <td>3.184286e+09</td>\n",
       "    </tr>\n",
       "    <tr>\n",
       "      <th>std</th>\n",
       "      <td>1.200356e+09</td>\n",
       "    </tr>\n",
       "    <tr>\n",
       "      <th>min</th>\n",
       "      <td>8.201349e+08</td>\n",
       "    </tr>\n",
       "    <tr>\n",
       "      <th>25%</th>\n",
       "      <td>2.365869e+09</td>\n",
       "    </tr>\n",
       "    <tr>\n",
       "      <th>50%</th>\n",
       "      <td>3.552020e+09</td>\n",
       "    </tr>\n",
       "    <tr>\n",
       "      <th>75%</th>\n",
       "      <td>4.358216e+09</td>\n",
       "    </tr>\n",
       "    <tr>\n",
       "      <th>max</th>\n",
       "      <td>4.504500e+09</td>\n",
       "    </tr>\n",
       "  </tbody>\n",
       "</table>\n",
       "</div>"
      ],
      "text/plain": [
       "                 id\n",
       "count  3.200000e+01\n",
       "mean   3.184286e+09\n",
       "std    1.200356e+09\n",
       "min    8.201349e+08\n",
       "25%    2.365869e+09\n",
       "50%    3.552020e+09\n",
       "75%    4.358216e+09\n",
       "max    4.504500e+09"
      ]
     },
     "execution_count": 17,
     "metadata": {},
     "output_type": "execute_result"
    }
   ],
   "source": [
    "df_postcode = df[df['key']=='cuisine'][['id','key', 'value', 'type']]\n",
    "df_postcode.describe()"
   ]
  },
  {
   "cell_type": "code",
   "execution_count": 12,
   "metadata": {
    "collapsed": false
   },
   "outputs": [
    {
     "data": {
      "text/html": [
       "<div>\n",
       "<table border=\"1\" class=\"dataframe\">\n",
       "  <thead>\n",
       "    <tr style=\"text-align: right;\">\n",
       "      <th></th>\n",
       "      <th>id</th>\n",
       "      <th>key</th>\n",
       "      <th>value</th>\n",
       "      <th>type</th>\n",
       "    </tr>\n",
       "  </thead>\n",
       "  <tbody>\n",
       "    <tr>\n",
       "      <th>1163</th>\n",
       "      <td>1709500740</td>\n",
       "      <td>cuisine</td>\n",
       "      <td>chinese</td>\n",
       "      <td>regular</td>\n",
       "    </tr>\n",
       "    <tr>\n",
       "      <th>1166</th>\n",
       "      <td>1709525112</td>\n",
       "      <td>cuisine</td>\n",
       "      <td>chinese</td>\n",
       "      <td>regular</td>\n",
       "    </tr>\n",
       "    <tr>\n",
       "      <th>1438</th>\n",
       "      <td>1811342367</td>\n",
       "      <td>cuisine</td>\n",
       "      <td>chinese</td>\n",
       "      <td>regular</td>\n",
       "    </tr>\n",
       "    <tr>\n",
       "      <th>1727</th>\n",
       "      <td>1964289923</td>\n",
       "      <td>cuisine</td>\n",
       "      <td>chinese</td>\n",
       "      <td>regular</td>\n",
       "    </tr>\n",
       "    <tr>\n",
       "      <th>3898</th>\n",
       "      <td>4054114365</td>\n",
       "      <td>cuisine</td>\n",
       "      <td>chinese</td>\n",
       "      <td>regular</td>\n",
       "    </tr>\n",
       "    <tr>\n",
       "      <th>3970</th>\n",
       "      <td>4269440793</td>\n",
       "      <td>cuisine</td>\n",
       "      <td>chinese</td>\n",
       "      <td>regular</td>\n",
       "    </tr>\n",
       "    <tr>\n",
       "      <th>4030</th>\n",
       "      <td>4365597389</td>\n",
       "      <td>cuisine</td>\n",
       "      <td>chinese</td>\n",
       "      <td>regular</td>\n",
       "    </tr>\n",
       "    <tr>\n",
       "      <th>4046</th>\n",
       "      <td>4365698997</td>\n",
       "      <td>cuisine</td>\n",
       "      <td>chinese</td>\n",
       "      <td>regular</td>\n",
       "    </tr>\n",
       "    <tr>\n",
       "      <th>4097</th>\n",
       "      <td>4427145925</td>\n",
       "      <td>cuisine</td>\n",
       "      <td>chinese</td>\n",
       "      <td>regular</td>\n",
       "    </tr>\n",
       "    <tr>\n",
       "      <th>4135</th>\n",
       "      <td>4473106891</td>\n",
       "      <td>cuisine</td>\n",
       "      <td>chinese</td>\n",
       "      <td>regular</td>\n",
       "    </tr>\n",
       "    <tr>\n",
       "      <th>4164</th>\n",
       "      <td>4504500090</td>\n",
       "      <td>cuisine</td>\n",
       "      <td>chinese</td>\n",
       "      <td>regular</td>\n",
       "    </tr>\n",
       "  </tbody>\n",
       "</table>\n",
       "</div>"
      ],
      "text/plain": [
       "              id      key    value     type\n",
       "1163  1709500740  cuisine  chinese  regular\n",
       "1166  1709525112  cuisine  chinese  regular\n",
       "1438  1811342367  cuisine  chinese  regular\n",
       "1727  1964289923  cuisine  chinese  regular\n",
       "3898  4054114365  cuisine  chinese  regular\n",
       "3970  4269440793  cuisine  chinese  regular\n",
       "4030  4365597389  cuisine  chinese  regular\n",
       "4046  4365698997  cuisine  chinese  regular\n",
       "4097  4427145925  cuisine  chinese  regular\n",
       "4135  4473106891  cuisine  chinese  regular\n",
       "4164  4504500090  cuisine  chinese  regular"
      ]
     },
     "execution_count": 12,
     "metadata": {},
     "output_type": "execute_result"
    }
   ],
   "source": [
    "df_postcode = df[df['']=='chinese'][['id','key', 'value', 'type']]\n",
    "df_postcode"
   ]
  }
 ],
 "metadata": {
  "anaconda-cloud": {},
  "kernelspec": {
   "display_name": "Python [conda root]",
   "language": "python",
   "name": "conda-root-py"
  },
  "language_info": {
   "codemirror_mode": {
    "name": "ipython",
    "version": 2
   },
   "file_extension": ".py",
   "mimetype": "text/x-python",
   "name": "python",
   "nbconvert_exporter": "python",
   "pygments_lexer": "ipython2",
   "version": "2.7.13"
  }
 },
 "nbformat": 4,
 "nbformat_minor": 2
}
